{
 "cells": [
  {
   "cell_type": "code",
   "execution_count": 284,
   "metadata": {
    "collapsed": true
   },
   "outputs": [],
   "source": [
    "import numpy as np\n",
    "import wandb\n",
    "import pandas as pd\n",
    "import datetime"
   ]
  },
  {
   "cell_type": "code",
   "execution_count": 285,
   "outputs": [],
   "source": [
    "def get_h36m_mpjpe_results(\n",
    "    artifact_name: str, record: str = \"test/test_res\", exp: str = \"human36m\"\n",
    "):\n",
    "    api = wandb.Api()\n",
    "    artifact = api.artifact(artifact_name)\n",
    "\n",
    "    runs = artifact.used_by()\n",
    "    runs = filter(\n",
    "        lambda x: x.state not in [\"crashed\", \"killed\", \"failed\"]\n",
    "        and x.summary[\"_timestamp\"] > datetime.datetime(2022, 10, 17).timestamp()\n",
    "        and exp in x.name,\n",
    "        runs,\n",
    "    )\n",
    "\n",
    "    mpjpes = np.array([run.summary[record] for run in runs])\n",
    "\n",
    "    return mpjpes\n",
    "\n",
    "\n",
    "def describe(data, title=\"cGNF\", sigfig: dict = dict(mean=1, std=2)):\n",
    "    print(title)\n",
    "    df = pd.DataFrame(data)\n",
    "    return (\n",
    "        df.explode(list(df.columns))\n",
    "        .astype(\"float\")\n",
    "        .describe()\n",
    "        .loc[[\"mean\", \"std\"]]\n",
    "        .T.round(sigfig)\n",
    "        .T\n",
    "    )"
   ],
   "metadata": {
    "collapsed": false,
    "pycharm": {
     "name": "#%%\n"
    }
   }
  },
  {
   "cell_type": "code",
   "execution_count": 286,
   "outputs": [],
   "source": [
    "def get_h36m_calibration_results(\n",
    "    artifact_name: str, record: str = \"test/test_res\", exp: str = \"calibration\", idx=0\n",
    "):\n",
    "    api = wandb.Api()\n",
    "    artifact = api.artifact(artifact_name)\n",
    "\n",
    "    runs = artifact.used_by()\n",
    "    runs = filter(\n",
    "        lambda x: x.state not in [\"crashed\", \"killed\", \"failed\"]\n",
    "        and x.summary[\"_timestamp\"] > datetime.datetime(2022, 10, 17).timestamp()\n",
    "        and exp in x.name,\n",
    "        runs,\n",
    "    )\n",
    "\n",
    "    mpjpes = np.array([run.history()[record][idx] for run in runs])\n",
    "\n",
    "    return mpjpes"
   ],
   "metadata": {
    "collapsed": false,
    "pycharm": {
     "name": "#%%\n"
    }
   }
  },
  {
   "cell_type": "code",
   "execution_count": 287,
   "outputs": [],
   "source": [
    "mpjpes = {}\n",
    "\n",
    "mpjpes[\"test\"] = get_h36m_mpjpe_results(\n",
    "    \"ppierzc/propose_human36m/mpii-prod-no-mode:best\"\n",
    ")\n",
    "mpjpes[\"hard\"] = get_h36m_mpjpe_results(\n",
    "    \"ppierzc/propose_human36m/mpii-prod-no-mode:best\", \"hard/test_res\"\n",
    ")\n",
    "mpjpes[\"occl\"] = get_h36m_mpjpe_results(\n",
    "    \"ppierzc/propose_human36m/mpii-prod-no-mode:best\", \"occl/best_mpjpe\"\n",
    ")"
   ],
   "metadata": {
    "collapsed": false,
    "pycharm": {
     "name": "#%%\n"
    }
   }
  },
  {
   "cell_type": "code",
   "execution_count": 288,
   "outputs": [
    {
     "name": "stdout",
     "output_type": "stream",
     "text": [
      "cGNF\n"
     ]
    },
    {
     "data": {
      "text/plain": "       test   hard   occl\nmean  57.50  87.30  47.00\nstd    0.06   0.13   0.18",
      "text/html": "<div>\n<style scoped>\n    .dataframe tbody tr th:only-of-type {\n        vertical-align: middle;\n    }\n\n    .dataframe tbody tr th {\n        vertical-align: top;\n    }\n\n    .dataframe thead th {\n        text-align: right;\n    }\n</style>\n<table border=\"1\" class=\"dataframe\">\n  <thead>\n    <tr style=\"text-align: right;\">\n      <th></th>\n      <th>test</th>\n      <th>hard</th>\n      <th>occl</th>\n    </tr>\n  </thead>\n  <tbody>\n    <tr>\n      <th>mean</th>\n      <td>57.50</td>\n      <td>87.30</td>\n      <td>47.00</td>\n    </tr>\n    <tr>\n      <th>std</th>\n      <td>0.06</td>\n      <td>0.13</td>\n      <td>0.18</td>\n    </tr>\n  </tbody>\n</table>\n</div>"
     },
     "execution_count": 288,
     "metadata": {},
     "output_type": "execute_result"
    }
   ],
   "source": [
    "describe(mpjpes)"
   ],
   "metadata": {
    "collapsed": false,
    "pycharm": {
     "name": "#%%\n"
    }
   }
  },
  {
   "cell_type": "code",
   "execution_count": 289,
   "outputs": [],
   "source": [
    "mpjpes = {}\n",
    "\n",
    "mpjpes[\"test\"] = get_h36m_mpjpe_results(\"ppierzc/propose_human36m/mpii-prod:best\")\n",
    "mpjpes[\"hard\"] = get_h36m_mpjpe_results(\n",
    "    \"ppierzc/propose_human36m/mpii-prod:best\", \"hard/test_res\"\n",
    ")\n",
    "mpjpes[\"occl\"] = get_h36m_mpjpe_results(\n",
    "    \"ppierzc/propose_human36m/mpii-prod:best\", \"occl/best_mpjpe\"\n",
    ")"
   ],
   "metadata": {
    "collapsed": false,
    "pycharm": {
     "name": "#%%\n"
    }
   }
  },
  {
   "cell_type": "code",
   "execution_count": 290,
   "outputs": [
    {
     "name": "stdout",
     "output_type": "stream",
     "text": [
      "cGNF w Lsample\n"
     ]
    },
    {
     "data": {
      "text/plain": "       test   hard   occl\nmean  53.00  79.30  41.80\nstd    0.06   0.05   0.04",
      "text/html": "<div>\n<style scoped>\n    .dataframe tbody tr th:only-of-type {\n        vertical-align: middle;\n    }\n\n    .dataframe tbody tr th {\n        vertical-align: top;\n    }\n\n    .dataframe thead th {\n        text-align: right;\n    }\n</style>\n<table border=\"1\" class=\"dataframe\">\n  <thead>\n    <tr style=\"text-align: right;\">\n      <th></th>\n      <th>test</th>\n      <th>hard</th>\n      <th>occl</th>\n    </tr>\n  </thead>\n  <tbody>\n    <tr>\n      <th>mean</th>\n      <td>53.00</td>\n      <td>79.30</td>\n      <td>41.80</td>\n    </tr>\n    <tr>\n      <th>std</th>\n      <td>0.06</td>\n      <td>0.05</td>\n      <td>0.04</td>\n    </tr>\n  </tbody>\n</table>\n</div>"
     },
     "execution_count": 290,
     "metadata": {},
     "output_type": "execute_result"
    }
   ],
   "source": [
    "describe(mpjpes, title=\"cGNF w Lsample\")"
   ],
   "metadata": {
    "collapsed": false,
    "pycharm": {
     "name": "#%%\n"
    }
   }
  },
  {
   "cell_type": "code",
   "execution_count": 291,
   "outputs": [],
   "source": [
    "mpjpes = {}\n",
    "\n",
    "mpjpes[\"test\"] = get_h36m_mpjpe_results(\n",
    "    \"ppierzc/propose_human36m/mpii-prod-xlarge:best\"\n",
    ")\n",
    "mpjpes[\"hard\"] = get_h36m_mpjpe_results(\n",
    "    \"ppierzc/propose_human36m/mpii-prod-xlarge:best\", \"hard/test_res\"\n",
    ")\n",
    "mpjpes[\"occl\"] = get_h36m_mpjpe_results(\n",
    "    \"ppierzc/propose_human36m/mpii-prod-xlarge:best\", \"occl/best_mpjpe\"\n",
    ")"
   ],
   "metadata": {
    "collapsed": false,
    "pycharm": {
     "name": "#%%\n"
    }
   }
  },
  {
   "cell_type": "code",
   "execution_count": 292,
   "outputs": [
    {
     "name": "stdout",
     "output_type": "stream",
     "text": [
      "cGNF xlarge w Lsample\n"
     ]
    },
    {
     "data": {
      "text/plain": "       test   hard   occl\nmean  48.50  72.60  39.90\nstd    0.02   0.09   0.05",
      "text/html": "<div>\n<style scoped>\n    .dataframe tbody tr th:only-of-type {\n        vertical-align: middle;\n    }\n\n    .dataframe tbody tr th {\n        vertical-align: top;\n    }\n\n    .dataframe thead th {\n        text-align: right;\n    }\n</style>\n<table border=\"1\" class=\"dataframe\">\n  <thead>\n    <tr style=\"text-align: right;\">\n      <th></th>\n      <th>test</th>\n      <th>hard</th>\n      <th>occl</th>\n    </tr>\n  </thead>\n  <tbody>\n    <tr>\n      <th>mean</th>\n      <td>48.50</td>\n      <td>72.60</td>\n      <td>39.90</td>\n    </tr>\n    <tr>\n      <th>std</th>\n      <td>0.02</td>\n      <td>0.09</td>\n      <td>0.05</td>\n    </tr>\n  </tbody>\n</table>\n</div>"
     },
     "execution_count": 292,
     "metadata": {},
     "output_type": "execute_result"
    }
   ],
   "source": [
    "describe(mpjpes, title=\"cGNF xlarge w Lsample\")"
   ],
   "metadata": {
    "collapsed": false,
    "pycharm": {
     "name": "#%%\n"
    }
   }
  },
  {
   "cell_type": "code",
   "execution_count": 293,
   "outputs": [],
   "source": [
    "cal = {}\n",
    "\n",
    "cal[\"test\"] = get_h36m_calibration_results(\n",
    "    \"ppierzc/propose_human36m/mpii-prod-xlarge:best\",\n",
    "    record=\"calibration_score\",\n",
    "    exp=\"calibration\",\n",
    ")\n",
    "cal[\"occl\"] = get_h36m_calibration_results(\n",
    "    \"ppierzc/propose_human36m/mpii-prod-xlarge:best\",\n",
    "    record=\"calibration_score\",\n",
    "    exp=\"calibration\",\n",
    "    idx=1,\n",
    ")"
   ],
   "metadata": {
    "collapsed": false,
    "pycharm": {
     "name": "#%%\n"
    }
   }
  },
  {
   "cell_type": "code",
   "execution_count": 294,
   "outputs": [
    {
     "name": "stdout",
     "output_type": "stream",
     "text": [
      "cGNF xlarge w Lsample\n"
     ]
    },
    {
     "data": {
      "text/plain": "          test      occl\nmean  0.230000  0.070000\nstd   0.000305  0.000539",
      "text/html": "<div>\n<style scoped>\n    .dataframe tbody tr th:only-of-type {\n        vertical-align: middle;\n    }\n\n    .dataframe tbody tr th {\n        vertical-align: top;\n    }\n\n    .dataframe thead th {\n        text-align: right;\n    }\n</style>\n<table border=\"1\" class=\"dataframe\">\n  <thead>\n    <tr style=\"text-align: right;\">\n      <th></th>\n      <th>test</th>\n      <th>occl</th>\n    </tr>\n  </thead>\n  <tbody>\n    <tr>\n      <th>mean</th>\n      <td>0.230000</td>\n      <td>0.070000</td>\n    </tr>\n    <tr>\n      <th>std</th>\n      <td>0.000305</td>\n      <td>0.000539</td>\n    </tr>\n  </tbody>\n</table>\n</div>"
     },
     "execution_count": 294,
     "metadata": {},
     "output_type": "execute_result"
    }
   ],
   "source": [
    "describe(cal, title=\"cGNF xlarge w Lsample\", sigfig=dict(mean=2, std=10))"
   ],
   "metadata": {
    "collapsed": false,
    "pycharm": {
     "name": "#%%\n"
    }
   }
  },
  {
   "cell_type": "code",
   "execution_count": 295,
   "outputs": [],
   "source": [
    "cal = {}\n",
    "\n",
    "cal[\"test\"] = get_h36m_calibration_results(\n",
    "    \"ppierzc/propose_human36m/mpii-prod:best\",\n",
    "    record=\"calibration_score\",\n",
    "    exp=\"calibration\",\n",
    ")\n",
    "cal[\"occl\"] = get_h36m_calibration_results(\n",
    "    \"ppierzc/propose_human36m/mpii-prod:best\",\n",
    "    record=\"calibration_score\",\n",
    "    exp=\"calibration\",\n",
    "    idx=1,\n",
    ")"
   ],
   "metadata": {
    "collapsed": false,
    "pycharm": {
     "name": "#%%\n"
    }
   }
  },
  {
   "cell_type": "code",
   "execution_count": 296,
   "outputs": [
    {
     "name": "stdout",
     "output_type": "stream",
     "text": [
      "cGNF w Lsample\n"
     ]
    },
    {
     "data": {
      "text/plain": "          test      occl\nmean  0.080000  0.030000\nstd   0.000046  0.000224",
      "text/html": "<div>\n<style scoped>\n    .dataframe tbody tr th:only-of-type {\n        vertical-align: middle;\n    }\n\n    .dataframe tbody tr th {\n        vertical-align: top;\n    }\n\n    .dataframe thead th {\n        text-align: right;\n    }\n</style>\n<table border=\"1\" class=\"dataframe\">\n  <thead>\n    <tr style=\"text-align: right;\">\n      <th></th>\n      <th>test</th>\n      <th>occl</th>\n    </tr>\n  </thead>\n  <tbody>\n    <tr>\n      <th>mean</th>\n      <td>0.080000</td>\n      <td>0.030000</td>\n    </tr>\n    <tr>\n      <th>std</th>\n      <td>0.000046</td>\n      <td>0.000224</td>\n    </tr>\n  </tbody>\n</table>\n</div>"
     },
     "execution_count": 296,
     "metadata": {},
     "output_type": "execute_result"
    }
   ],
   "source": [
    "describe(cal, title=\"cGNF w Lsample\", sigfig=dict(mean=2, std=10))"
   ],
   "metadata": {
    "collapsed": false,
    "pycharm": {
     "name": "#%%\n"
    }
   }
  },
  {
   "cell_type": "code",
   "execution_count": 298,
   "outputs": [],
   "source": [
    "cal = {}\n",
    "\n",
    "cal[\"test\"] = get_h36m_calibration_results(\n",
    "    \"ppierzc/propose_human36m/mpii-prod-no-mode:best\",\n",
    "    record=\"calibration_score\",\n",
    "    exp=\"calibration\",\n",
    ")\n",
    "cal[\"occl\"] = get_h36m_calibration_results(\n",
    "    \"ppierzc/propose_human36m/mpii-prod-no-mode:best\",\n",
    "    record=\"calibration_score\",\n",
    "    exp=\"calibration\",\n",
    "    idx=1,\n",
    ")"
   ],
   "metadata": {
    "collapsed": false,
    "pycharm": {
     "name": "#%%\n"
    }
   }
  },
  {
   "cell_type": "code",
   "execution_count": 299,
   "outputs": [
    {
     "name": "stdout",
     "output_type": "stream",
     "text": [
      "cGNF\n"
     ]
    },
    {
     "data": {
      "text/plain": "          test      occl\nmean  0.080000  0.070000\nstd   0.000244  0.000506",
      "text/html": "<div>\n<style scoped>\n    .dataframe tbody tr th:only-of-type {\n        vertical-align: middle;\n    }\n\n    .dataframe tbody tr th {\n        vertical-align: top;\n    }\n\n    .dataframe thead th {\n        text-align: right;\n    }\n</style>\n<table border=\"1\" class=\"dataframe\">\n  <thead>\n    <tr style=\"text-align: right;\">\n      <th></th>\n      <th>test</th>\n      <th>occl</th>\n    </tr>\n  </thead>\n  <tbody>\n    <tr>\n      <th>mean</th>\n      <td>0.080000</td>\n      <td>0.070000</td>\n    </tr>\n    <tr>\n      <th>std</th>\n      <td>0.000244</td>\n      <td>0.000506</td>\n    </tr>\n  </tbody>\n</table>\n</div>"
     },
     "execution_count": 299,
     "metadata": {},
     "output_type": "execute_result"
    }
   ],
   "source": [
    "describe(cal, title=\"cGNF\", sigfig=dict(mean=2, std=10))"
   ],
   "metadata": {
    "collapsed": false,
    "pycharm": {
     "name": "#%%\n"
    }
   }
  },
  {
   "cell_type": "code",
   "execution_count": 300,
   "outputs": [],
   "source": [
    "api = wandb.Api()\n",
    "\n",
    "runs = list(\n",
    "    api.runs(\n",
    "        path=\"ppierzc/propose_human36m\",\n",
    "        filters={\"display_name\": {\"$regex\": \"^wehrbein_calibration_1.*\"}},\n",
    "    )\n",
    ")\n",
    "eces = np.array([run.summary[\"calibration_score\"] for run in runs])\n",
    "\n",
    "cal = {}\n",
    "cal[\"test\"] = eces\n",
    "\n",
    "runs = list(\n",
    "    api.runs(\n",
    "        path=\"ppierzc/propose_human36m\",\n",
    "        filters={\"display_name\": {\"$regex\": \"^wehrbein_calibration_occl_1.*\"}},\n",
    "    )\n",
    ")\n",
    "eces = np.array([run.summary[\"calibration_score\"] for run in runs])\n",
    "cal[\"occl\"] = eces"
   ],
   "metadata": {
    "collapsed": false,
    "pycharm": {
     "name": "#%%\n"
    }
   }
  },
  {
   "cell_type": "code",
   "execution_count": 301,
   "outputs": [
    {
     "name": "stdout",
     "output_type": "stream",
     "text": [
      "Wehrbein\n"
     ]
    },
    {
     "data": {
      "text/plain": "          test      occl\nmean  0.180000  0.260000\nstd   0.000552  0.000441",
      "text/html": "<div>\n<style scoped>\n    .dataframe tbody tr th:only-of-type {\n        vertical-align: middle;\n    }\n\n    .dataframe tbody tr th {\n        vertical-align: top;\n    }\n\n    .dataframe thead th {\n        text-align: right;\n    }\n</style>\n<table border=\"1\" class=\"dataframe\">\n  <thead>\n    <tr style=\"text-align: right;\">\n      <th></th>\n      <th>test</th>\n      <th>occl</th>\n    </tr>\n  </thead>\n  <tbody>\n    <tr>\n      <th>mean</th>\n      <td>0.180000</td>\n      <td>0.260000</td>\n    </tr>\n    <tr>\n      <th>std</th>\n      <td>0.000552</td>\n      <td>0.000441</td>\n    </tr>\n  </tbody>\n</table>\n</div>"
     },
     "execution_count": 301,
     "metadata": {},
     "output_type": "execute_result"
    }
   ],
   "source": [
    "describe(cal, title=\"Wehrbein\", sigfig=dict(mean=2, std=10))"
   ],
   "metadata": {
    "collapsed": false,
    "pycharm": {
     "name": "#%%\n"
    }
   }
  },
  {
   "cell_type": "code",
   "execution_count": 302,
   "outputs": [],
   "source": [
    "api = wandb.Api()\n",
    "\n",
    "runs = list(\n",
    "    api.runs(\n",
    "        path=\"ppierzc/propose_human36m\",\n",
    "        filters={\n",
    "            \"display_name\": {\"$regex\": \"^gaussian_calibration_1.*\"},\n",
    "            \"state\": \"finished\",\n",
    "        },\n",
    "    )\n",
    ")\n",
    "eces = np.array([run.summary[\"ECE\"] for run in runs])\n",
    "\n",
    "cal = {}\n",
    "cal[\"NLL\"] = eces"
   ],
   "metadata": {
    "collapsed": false,
    "pycharm": {
     "name": "#%%\n"
    }
   }
  },
  {
   "cell_type": "code",
   "execution_count": 303,
   "outputs": [
    {
     "name": "stdout",
     "output_type": "stream",
     "text": [
      "Gaussian\n"
     ]
    },
    {
     "data": {
      "text/plain": "          NLL\nmean  0.07000\nstd   0.00001",
      "text/html": "<div>\n<style scoped>\n    .dataframe tbody tr th:only-of-type {\n        vertical-align: middle;\n    }\n\n    .dataframe tbody tr th {\n        vertical-align: top;\n    }\n\n    .dataframe thead th {\n        text-align: right;\n    }\n</style>\n<table border=\"1\" class=\"dataframe\">\n  <thead>\n    <tr style=\"text-align: right;\">\n      <th></th>\n      <th>NLL</th>\n    </tr>\n  </thead>\n  <tbody>\n    <tr>\n      <th>mean</th>\n      <td>0.07000</td>\n    </tr>\n    <tr>\n      <th>std</th>\n      <td>0.00001</td>\n    </tr>\n  </tbody>\n</table>\n</div>"
     },
     "execution_count": 303,
     "metadata": {},
     "output_type": "execute_result"
    }
   ],
   "source": [
    "describe(cal, title=\"Gaussian\", sigfig=dict(mean=2, std=10))"
   ],
   "metadata": {
    "collapsed": false,
    "pycharm": {
     "name": "#%%\n"
    }
   }
  },
  {
   "cell_type": "code",
   "execution_count": 304,
   "outputs": [],
   "source": [
    "api = wandb.Api()\n",
    "\n",
    "runs = list(\n",
    "    api.runs(\n",
    "        path=\"ppierzc/propose_human36m\",\n",
    "        filters={\n",
    "            \"display_name\": {\"$regex\": \"^sharma_calibration_1.*\"},\n",
    "            \"state\": \"finished\",\n",
    "        },\n",
    "    )\n",
    ")\n",
    "eces = np.array([run.summary[\"calibration_score\"] for run in runs])\n",
    "\n",
    "cal = {}\n",
    "cal[\"NLL\"] = eces"
   ],
   "metadata": {
    "collapsed": false,
    "pycharm": {
     "name": "#%%\n"
    }
   }
  },
  {
   "cell_type": "code",
   "execution_count": 305,
   "outputs": [
    {
     "name": "stdout",
     "output_type": "stream",
     "text": [
      "Sharma\n"
     ]
    },
    {
     "data": {
      "text/plain": "           NLL\nmean  0.360000\nstd   0.000286",
      "text/html": "<div>\n<style scoped>\n    .dataframe tbody tr th:only-of-type {\n        vertical-align: middle;\n    }\n\n    .dataframe tbody tr th {\n        vertical-align: top;\n    }\n\n    .dataframe thead th {\n        text-align: right;\n    }\n</style>\n<table border=\"1\" class=\"dataframe\">\n  <thead>\n    <tr style=\"text-align: right;\">\n      <th></th>\n      <th>NLL</th>\n    </tr>\n  </thead>\n  <tbody>\n    <tr>\n      <th>mean</th>\n      <td>0.360000</td>\n    </tr>\n    <tr>\n      <th>std</th>\n      <td>0.000286</td>\n    </tr>\n  </tbody>\n</table>\n</div>"
     },
     "execution_count": 305,
     "metadata": {},
     "output_type": "execute_result"
    }
   ],
   "source": [
    "describe(cal, title=\"Sharma\", sigfig=dict(mean=2, std=10))"
   ],
   "metadata": {
    "collapsed": false,
    "pycharm": {
     "name": "#%%\n"
    }
   }
  },
  {
   "cell_type": "code",
   "execution_count": 306,
   "outputs": [],
   "source": [
    "api = wandb.Api()\n",
    "\n",
    "runs = list(\n",
    "    api.runs(\n",
    "        path=\"ppierzc/propose_human36m\",\n",
    "        filters={\n",
    "            \"display_name\": {\"$regex\": \"^wehrbein_occl_.*\"},\n",
    "            \"state\": \"finished\",\n",
    "        },\n",
    "    )\n",
    ")\n",
    "mpjpe = np.array([run.summary[\"occlusion\"] for run in runs])\n",
    "\n",
    "mpjpes = {}\n",
    "mpjpes[\"Occl\"] = mpjpe"
   ],
   "metadata": {
    "collapsed": false,
    "pycharm": {
     "name": "#%%\n"
    }
   }
  },
  {
   "cell_type": "code",
   "execution_count": 307,
   "outputs": [
    {
     "name": "stdout",
     "output_type": "stream",
     "text": [
      "Wehrbein MPJPE occl\n"
     ]
    },
    {
     "data": {
      "text/plain": "       Occl\nmean  51.10\nstd    0.13",
      "text/html": "<div>\n<style scoped>\n    .dataframe tbody tr th:only-of-type {\n        vertical-align: middle;\n    }\n\n    .dataframe tbody tr th {\n        vertical-align: top;\n    }\n\n    .dataframe thead th {\n        text-align: right;\n    }\n</style>\n<table border=\"1\" class=\"dataframe\">\n  <thead>\n    <tr style=\"text-align: right;\">\n      <th></th>\n      <th>Occl</th>\n    </tr>\n  </thead>\n  <tbody>\n    <tr>\n      <th>mean</th>\n      <td>51.10</td>\n    </tr>\n    <tr>\n      <th>std</th>\n      <td>0.13</td>\n    </tr>\n  </tbody>\n</table>\n</div>"
     },
     "execution_count": 307,
     "metadata": {},
     "output_type": "execute_result"
    }
   ],
   "source": [
    "describe(mpjpes, title=\"Wehrbein MPJPE occl\", sigfig=dict(mean=1, std=2))"
   ],
   "metadata": {
    "collapsed": false,
    "pycharm": {
     "name": "#%%\n"
    }
   }
  },
  {
   "cell_type": "code",
   "execution_count": 308,
   "outputs": [],
   "source": [
    "api = wandb.Api()\n",
    "\n",
    "runs = list(\n",
    "    api.runs(\n",
    "        path=\"ppierzc/propose_human36m\",\n",
    "        filters={\n",
    "            \"display_name\": {\"$regex\": \"^gaussian_mpjpe_calibration_.*\"},\n",
    "            \"state\": \"finished\",\n",
    "        },\n",
    "    )\n",
    ")\n",
    "ece = np.array([run.summary[\"ECE\"] for run in runs])\n",
    "\n",
    "eces = {}\n",
    "eces[\"mpjpe\"] = ece"
   ],
   "metadata": {
    "collapsed": false,
    "pycharm": {
     "name": "#%%\n"
    }
   }
  },
  {
   "cell_type": "code",
   "execution_count": 263,
   "outputs": [],
   "source": [],
   "metadata": {
    "collapsed": false,
    "pycharm": {
     "name": "#%%\n"
    }
   }
  },
  {
   "cell_type": "code",
   "execution_count": 309,
   "outputs": [
    {
     "name": "stdout",
     "output_type": "stream",
     "text": [
      "Gaussian MPJPE\n"
     ]
    },
    {
     "data": {
      "text/plain": "         mpjpe\nmean  0.420000\nstd   0.000004",
      "text/html": "<div>\n<style scoped>\n    .dataframe tbody tr th:only-of-type {\n        vertical-align: middle;\n    }\n\n    .dataframe tbody tr th {\n        vertical-align: top;\n    }\n\n    .dataframe thead th {\n        text-align: right;\n    }\n</style>\n<table border=\"1\" class=\"dataframe\">\n  <thead>\n    <tr style=\"text-align: right;\">\n      <th></th>\n      <th>mpjpe</th>\n    </tr>\n  </thead>\n  <tbody>\n    <tr>\n      <th>mean</th>\n      <td>0.420000</td>\n    </tr>\n    <tr>\n      <th>std</th>\n      <td>0.000004</td>\n    </tr>\n  </tbody>\n</table>\n</div>"
     },
     "execution_count": 309,
     "metadata": {},
     "output_type": "execute_result"
    }
   ],
   "source": [
    "describe(eces, title=\"Gaussian MPJPE\", sigfig=dict(mean=2, std=10))"
   ],
   "metadata": {
    "collapsed": false,
    "pycharm": {
     "name": "#%%\n"
    }
   }
  },
  {
   "cell_type": "code",
   "execution_count": 310,
   "outputs": [],
   "source": [
    "api = wandb.Api()\n",
    "\n",
    "runs = list(\n",
    "    api.runs(\n",
    "        path=\"ppierzc/propose_human36m\",\n",
    "        filters={\n",
    "            \"display_name\": {\"$regex\": \"^gaussian_mpjpe_nll.*\"},\n",
    "            \"state\": \"finished\",\n",
    "        },\n",
    "    )\n",
    ")\n",
    "mpjpe = np.array([run.summary[\"minMPJPE\"] for run in runs])\n",
    "\n",
    "mpjpes = {}\n",
    "mpjpes[\"NLL\"] = mpjpe\n",
    "\n",
    "runs = list(\n",
    "    api.runs(\n",
    "        path=\"ppierzc/propose_human36m\",\n",
    "        filters={\n",
    "            \"display_name\": {\"$regex\": \"^gaussian_mpjpe_mpjpe.*\"},\n",
    "            \"state\": \"finished\",\n",
    "        },\n",
    "    )\n",
    ")\n",
    "mpjpe = np.array([run.summary[\"minMPJPE\"] for run in runs])\n",
    "mpjpes[\"minMPJPE\"] = mpjpe"
   ],
   "metadata": {
    "collapsed": false,
    "pycharm": {
     "name": "#%%\n"
    }
   }
  },
  {
   "cell_type": "code",
   "execution_count": 314,
   "outputs": [
    {
     "name": "stdout",
     "output_type": "stream",
     "text": [
      "Gaussian\n"
     ]
    },
    {
     "data": {
      "text/plain": "            NLL   minMPJPE\nmean  60.139289  54.775911\nstd    0.001726   0.001843",
      "text/html": "<div>\n<style scoped>\n    .dataframe tbody tr th:only-of-type {\n        vertical-align: middle;\n    }\n\n    .dataframe tbody tr th {\n        vertical-align: top;\n    }\n\n    .dataframe thead th {\n        text-align: right;\n    }\n</style>\n<table border=\"1\" class=\"dataframe\">\n  <thead>\n    <tr style=\"text-align: right;\">\n      <th></th>\n      <th>NLL</th>\n      <th>minMPJPE</th>\n    </tr>\n  </thead>\n  <tbody>\n    <tr>\n      <th>mean</th>\n      <td>60.139289</td>\n      <td>54.775911</td>\n    </tr>\n    <tr>\n      <th>std</th>\n      <td>0.001726</td>\n      <td>0.001843</td>\n    </tr>\n  </tbody>\n</table>\n</div>"
     },
     "execution_count": 314,
     "metadata": {},
     "output_type": "execute_result"
    }
   ],
   "source": [
    "describe(mpjpes, title='Gaussian', sigfig=dict(NLL=10, minMPJPE=10))"
   ],
   "metadata": {
    "collapsed": false,
    "pycharm": {
     "name": "#%%\n"
    }
   }
  },
  {
   "cell_type": "code",
   "execution_count": 312,
   "outputs": [
    {
     "data": {
      "text/plain": "{'NLL': array([60.13749226, 60.14093531, 60.13943881]),\n 'minMPJPE': array([54.77691421, 54.77378377, 54.77703458])}"
     },
     "execution_count": 312,
     "metadata": {},
     "output_type": "execute_result"
    }
   ],
   "source": [
    "mpjpes"
   ],
   "metadata": {
    "collapsed": false,
    "pycharm": {
     "name": "#%%\n"
    }
   }
  },
  {
   "cell_type": "code",
   "execution_count": null,
   "outputs": [],
   "source": [],
   "metadata": {
    "collapsed": false,
    "pycharm": {
     "name": "#%%\n"
    }
   }
  }
 ],
 "metadata": {
  "kernelspec": {
   "display_name": "Python 3",
   "language": "python",
   "name": "python3"
  },
  "language_info": {
   "codemirror_mode": {
    "name": "ipython",
    "version": 2
   },
   "file_extension": ".py",
   "mimetype": "text/x-python",
   "name": "python",
   "nbconvert_exporter": "python",
   "pygments_lexer": "ipython2",
   "version": "2.7.6"
  }
 },
 "nbformat": 4,
 "nbformat_minor": 0
}