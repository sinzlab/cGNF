{
 "cells": [
  {
   "cell_type": "code",
   "execution_count": 120,
   "metadata": {
    "collapsed": true
   },
   "outputs": [],
   "source": [
    "import numpy as np\n",
    "import wandb\n",
    "import pandas as pd\n",
    "import datetime"
   ]
  },
  {
   "cell_type": "code",
   "execution_count": 166,
   "outputs": [],
   "source": [
    "def get_h36m_mpjpe_results(\n",
    "    artifact_name: str, record: str = \"test/test_res\", exp: str = \"human36m\"\n",
    "):\n",
    "    api = wandb.Api()\n",
    "    artifact = api.artifact(artifact_name)\n",
    "\n",
    "    runs = artifact.used_by()\n",
    "    runs = filter(\n",
    "        lambda x: x.state not in [\"crashed\", \"killed\", \"failed\"]\n",
    "        and x.summary[\"_timestamp\"] > datetime.datetime(2022, 10, 17).timestamp()\n",
    "        and exp in x.name,\n",
    "        runs,\n",
    "    )\n",
    "\n",
    "    mpjpes = np.array([run.summary[record] for run in runs])\n",
    "\n",
    "    return mpjpes\n",
    "\n",
    "\n",
    "def describe(data, title=\"cGNF\", sigfig: dict = dict(mean=1, std=2)):\n",
    "    print(title)\n",
    "    df = pd.DataFrame(data)\n",
    "    return (\n",
    "        df.explode(list(df.columns))\n",
    "        .astype(\"float\")\n",
    "        .describe()\n",
    "        .loc[[\"mean\", \"std\"]]\n",
    "        .T.round(sigfig)\n",
    "        .T\n",
    "    )"
   ],
   "metadata": {
    "collapsed": false,
    "pycharm": {
     "name": "#%%\n"
    }
   }
  },
  {
   "cell_type": "code",
   "execution_count": 178,
   "outputs": [],
   "source": [
    "def get_h36m_calibration_results(\n",
    "    artifact_name: str, record: str = \"test/test_res\", exp: str = \"calibration\", idx=0\n",
    "):\n",
    "    api = wandb.Api()\n",
    "    artifact = api.artifact(artifact_name)\n",
    "\n",
    "    runs = artifact.used_by()\n",
    "    runs = filter(\n",
    "        lambda x: x.state not in [\"crashed\", \"killed\", \"failed\"]\n",
    "        and x.summary[\"_timestamp\"] > datetime.datetime(2022, 10, 17).timestamp()\n",
    "        and exp in x.name,\n",
    "        runs,\n",
    "    )\n",
    "\n",
    "    mpjpes = np.array([run.history()[record][idx] for run in runs])\n",
    "\n",
    "    return mpjpes"
   ],
   "metadata": {
    "collapsed": false,
    "pycharm": {
     "name": "#%%\n"
    }
   }
  },
  {
   "cell_type": "code",
   "execution_count": 144,
   "outputs": [],
   "source": [
    "mpjpes = {}\n",
    "\n",
    "mpjpes[\"test\"] = get_h36m_mpjpe_results(\n",
    "    \"ppierzc/propose_human36m/mpii-prod-no-mode:best\"\n",
    ")\n",
    "mpjpes[\"hard\"] = get_h36m_mpjpe_results(\n",
    "    \"ppierzc/propose_human36m/mpii-prod-no-mode:best\", \"hard/test_res\"\n",
    ")\n",
    "mpjpes[\"occl\"] = get_h36m_mpjpe_results(\n",
    "    \"ppierzc/propose_human36m/mpii-prod-no-mode:best\", \"occl/best_mpjpe\"\n",
    ")"
   ],
   "metadata": {
    "collapsed": false,
    "pycharm": {
     "name": "#%%\n"
    }
   }
  },
  {
   "cell_type": "code",
   "execution_count": 145,
   "outputs": [
    {
     "name": "stdout",
     "output_type": "stream",
     "text": [
      "cGNF\n"
     ]
    },
    {
     "data": {
      "text/plain": "       test   hard   occl\nmean  57.50  87.30  47.00\nstd    0.06   0.13   0.18",
      "text/html": "<div>\n<style scoped>\n    .dataframe tbody tr th:only-of-type {\n        vertical-align: middle;\n    }\n\n    .dataframe tbody tr th {\n        vertical-align: top;\n    }\n\n    .dataframe thead th {\n        text-align: right;\n    }\n</style>\n<table border=\"1\" class=\"dataframe\">\n  <thead>\n    <tr style=\"text-align: right;\">\n      <th></th>\n      <th>test</th>\n      <th>hard</th>\n      <th>occl</th>\n    </tr>\n  </thead>\n  <tbody>\n    <tr>\n      <th>mean</th>\n      <td>57.50</td>\n      <td>87.30</td>\n      <td>47.00</td>\n    </tr>\n    <tr>\n      <th>std</th>\n      <td>0.06</td>\n      <td>0.13</td>\n      <td>0.18</td>\n    </tr>\n  </tbody>\n</table>\n</div>"
     },
     "execution_count": 145,
     "metadata": {},
     "output_type": "execute_result"
    }
   ],
   "source": [
    "describe(mpjpes)"
   ],
   "metadata": {
    "collapsed": false,
    "pycharm": {
     "name": "#%%\n"
    }
   }
  },
  {
   "cell_type": "code",
   "execution_count": 146,
   "outputs": [],
   "source": [
    "mpjpes = {}\n",
    "\n",
    "mpjpes[\"test\"] = get_h36m_mpjpe_results(\"ppierzc/propose_human36m/mpii-prod:best\")\n",
    "mpjpes[\"hard\"] = get_h36m_mpjpe_results(\n",
    "    \"ppierzc/propose_human36m/mpii-prod:best\", \"hard/test_res\"\n",
    ")\n",
    "mpjpes[\"occl\"] = get_h36m_mpjpe_results(\n",
    "    \"ppierzc/propose_human36m/mpii-prod:best\", \"occl/best_mpjpe\"\n",
    ")"
   ],
   "metadata": {
    "collapsed": false,
    "pycharm": {
     "name": "#%%\n"
    }
   }
  },
  {
   "cell_type": "code",
   "execution_count": 147,
   "outputs": [
    {
     "name": "stdout",
     "output_type": "stream",
     "text": [
      "cGNF w Lsample\n"
     ]
    },
    {
     "data": {
      "text/plain": "       test   hard   occl\nmean  53.00  79.30  41.80\nstd    0.06   0.05   0.04",
      "text/html": "<div>\n<style scoped>\n    .dataframe tbody tr th:only-of-type {\n        vertical-align: middle;\n    }\n\n    .dataframe tbody tr th {\n        vertical-align: top;\n    }\n\n    .dataframe thead th {\n        text-align: right;\n    }\n</style>\n<table border=\"1\" class=\"dataframe\">\n  <thead>\n    <tr style=\"text-align: right;\">\n      <th></th>\n      <th>test</th>\n      <th>hard</th>\n      <th>occl</th>\n    </tr>\n  </thead>\n  <tbody>\n    <tr>\n      <th>mean</th>\n      <td>53.00</td>\n      <td>79.30</td>\n      <td>41.80</td>\n    </tr>\n    <tr>\n      <th>std</th>\n      <td>0.06</td>\n      <td>0.05</td>\n      <td>0.04</td>\n    </tr>\n  </tbody>\n</table>\n</div>"
     },
     "execution_count": 147,
     "metadata": {},
     "output_type": "execute_result"
    }
   ],
   "source": [
    "describe(mpjpes, title=\"cGNF w Lsample\")"
   ],
   "metadata": {
    "collapsed": false,
    "pycharm": {
     "name": "#%%\n"
    }
   }
  },
  {
   "cell_type": "code",
   "execution_count": 150,
   "outputs": [],
   "source": [
    "mpjpes = {}\n",
    "\n",
    "mpjpes[\"test\"] = get_h36m_mpjpe_results(\n",
    "    \"ppierzc/propose_human36m/mpii-prod-xlarge:best\"\n",
    ")\n",
    "mpjpes[\"hard\"] = get_h36m_mpjpe_results(\n",
    "    \"ppierzc/propose_human36m/mpii-prod-xlarge:best\", \"hard/test_res\"\n",
    ")\n",
    "mpjpes[\"occl\"] = get_h36m_mpjpe_results(\n",
    "    \"ppierzc/propose_human36m/mpii-prod-xlarge:best\", \"occl/best_mpjpe\"\n",
    ")"
   ],
   "metadata": {
    "collapsed": false,
    "pycharm": {
     "name": "#%%\n"
    }
   }
  },
  {
   "cell_type": "code",
   "execution_count": 151,
   "outputs": [
    {
     "name": "stdout",
     "output_type": "stream",
     "text": [
      "cGNF xlarge w Lsample\n"
     ]
    },
    {
     "data": {
      "text/plain": "       test   hard   occl\nmean  48.50  72.60  39.90\nstd    0.02   0.09   0.05",
      "text/html": "<div>\n<style scoped>\n    .dataframe tbody tr th:only-of-type {\n        vertical-align: middle;\n    }\n\n    .dataframe tbody tr th {\n        vertical-align: top;\n    }\n\n    .dataframe thead th {\n        text-align: right;\n    }\n</style>\n<table border=\"1\" class=\"dataframe\">\n  <thead>\n    <tr style=\"text-align: right;\">\n      <th></th>\n      <th>test</th>\n      <th>hard</th>\n      <th>occl</th>\n    </tr>\n  </thead>\n  <tbody>\n    <tr>\n      <th>mean</th>\n      <td>48.50</td>\n      <td>72.60</td>\n      <td>39.90</td>\n    </tr>\n    <tr>\n      <th>std</th>\n      <td>0.02</td>\n      <td>0.09</td>\n      <td>0.05</td>\n    </tr>\n  </tbody>\n</table>\n</div>"
     },
     "execution_count": 151,
     "metadata": {},
     "output_type": "execute_result"
    }
   ],
   "source": [
    "describe(mpjpes, title=\"cGNF xlarge w Lsample\")"
   ],
   "metadata": {
    "collapsed": false,
    "pycharm": {
     "name": "#%%\n"
    }
   }
  },
  {
   "cell_type": "code",
   "execution_count": 179,
   "outputs": [],
   "source": [
    "cal = {}\n",
    "\n",
    "cal[\"test\"] = get_h36m_calibration_results(\n",
    "    \"ppierzc/propose_human36m/mpii-prod-xlarge:best\",\n",
    "    record=\"calibration_score\",\n",
    "    exp=\"calibration\",\n",
    ")\n",
    "cal[\"occl\"] = get_h36m_calibration_results(\n",
    "    \"ppierzc/propose_human36m/mpii-prod-xlarge:best\",\n",
    "    record=\"calibration_score\",\n",
    "    exp=\"calibration\",\n",
    "    idx=1,\n",
    ")"
   ],
   "metadata": {
    "collapsed": false,
    "pycharm": {
     "name": "#%%\n"
    }
   }
  },
  {
   "cell_type": "code",
   "execution_count": 182,
   "outputs": [
    {
     "name": "stdout",
     "output_type": "stream",
     "text": [
      "cGNF xlarge w Lsample\n"
     ]
    },
    {
     "data": {
      "text/plain": "      test   occl\nmean  0.23  0.070\nstd   0.00  0.001",
      "text/html": "<div>\n<style scoped>\n    .dataframe tbody tr th:only-of-type {\n        vertical-align: middle;\n    }\n\n    .dataframe tbody tr th {\n        vertical-align: top;\n    }\n\n    .dataframe thead th {\n        text-align: right;\n    }\n</style>\n<table border=\"1\" class=\"dataframe\">\n  <thead>\n    <tr style=\"text-align: right;\">\n      <th></th>\n      <th>test</th>\n      <th>occl</th>\n    </tr>\n  </thead>\n  <tbody>\n    <tr>\n      <th>mean</th>\n      <td>0.23</td>\n      <td>0.070</td>\n    </tr>\n    <tr>\n      <th>std</th>\n      <td>0.00</td>\n      <td>0.001</td>\n    </tr>\n  </tbody>\n</table>\n</div>"
     },
     "execution_count": 182,
     "metadata": {},
     "output_type": "execute_result"
    }
   ],
   "source": [
    "describe(cal, title=\"cGNF xlarge w Lsample\", sigfig=dict(mean=2, std=3))"
   ],
   "metadata": {
    "collapsed": false,
    "pycharm": {
     "name": "#%%\n"
    }
   }
  },
  {
   "cell_type": "code",
   "execution_count": 187,
   "outputs": [],
   "source": [
    "cal = {}\n",
    "\n",
    "cal[\"test\"] = get_h36m_calibration_results(\n",
    "    \"ppierzc/propose_human36m/mpii-prod:best\",\n",
    "    record=\"calibration_score\",\n",
    "    exp=\"calibration\",\n",
    ")\n",
    "cal[\"occl\"] = get_h36m_calibration_results(\n",
    "    \"ppierzc/propose_human36m/mpii-prod:best\",\n",
    "    record=\"calibration_score\",\n",
    "    exp=\"calibration\",\n",
    "    idx=1,\n",
    ")"
   ],
   "metadata": {
    "collapsed": false,
    "pycharm": {
     "name": "#%%\n"
    }
   }
  },
  {
   "cell_type": "code",
   "execution_count": 188,
   "outputs": [
    {
     "name": "stdout",
     "output_type": "stream",
     "text": [
      "cGNF w Lsample\n"
     ]
    },
    {
     "data": {
      "text/plain": "      test  occl\nmean  0.08  0.03\nstd   0.00  0.00",
      "text/html": "<div>\n<style scoped>\n    .dataframe tbody tr th:only-of-type {\n        vertical-align: middle;\n    }\n\n    .dataframe tbody tr th {\n        vertical-align: top;\n    }\n\n    .dataframe thead th {\n        text-align: right;\n    }\n</style>\n<table border=\"1\" class=\"dataframe\">\n  <thead>\n    <tr style=\"text-align: right;\">\n      <th></th>\n      <th>test</th>\n      <th>occl</th>\n    </tr>\n  </thead>\n  <tbody>\n    <tr>\n      <th>mean</th>\n      <td>0.08</td>\n      <td>0.03</td>\n    </tr>\n    <tr>\n      <th>std</th>\n      <td>0.00</td>\n      <td>0.00</td>\n    </tr>\n  </tbody>\n</table>\n</div>"
     },
     "execution_count": 188,
     "metadata": {},
     "output_type": "execute_result"
    }
   ],
   "source": [
    "describe(cal, title=\"cGNF w Lsample\", sigfig=dict(mean=2, std=3))"
   ],
   "metadata": {
    "collapsed": false,
    "pycharm": {
     "name": "#%%\n"
    }
   }
  },
  {
   "cell_type": "code",
   "execution_count": 192,
   "outputs": [],
   "source": [
    "cal = {}\n",
    "\n",
    "cal[\"test\"] = get_h36m_calibration_results(\n",
    "    \"ppierzc/propose_human36m/mpii-prod-no-mode:best\",\n",
    "    record=\"calibration_score\",\n",
    "    exp=\"calibration\",\n",
    ")\n",
    "cal[\"occl\"] = get_h36m_calibration_results(\n",
    "    \"ppierzc/propose_human36m/mpii-prod-no-mode:best\",\n",
    "    record=\"calibration_score\",\n",
    "    exp=\"calibration\",\n",
    "    idx=1,\n",
    ")"
   ],
   "metadata": {
    "collapsed": false,
    "pycharm": {
     "name": "#%%\n"
    }
   }
  },
  {
   "cell_type": "code",
   "execution_count": 193,
   "outputs": [
    {
     "name": "stdout",
     "output_type": "stream",
     "text": [
      "cGNF\n"
     ]
    },
    {
     "data": {
      "text/plain": "      test   occl\nmean  0.08  0.070\nstd   0.00  0.001",
      "text/html": "<div>\n<style scoped>\n    .dataframe tbody tr th:only-of-type {\n        vertical-align: middle;\n    }\n\n    .dataframe tbody tr th {\n        vertical-align: top;\n    }\n\n    .dataframe thead th {\n        text-align: right;\n    }\n</style>\n<table border=\"1\" class=\"dataframe\">\n  <thead>\n    <tr style=\"text-align: right;\">\n      <th></th>\n      <th>test</th>\n      <th>occl</th>\n    </tr>\n  </thead>\n  <tbody>\n    <tr>\n      <th>mean</th>\n      <td>0.08</td>\n      <td>0.070</td>\n    </tr>\n    <tr>\n      <th>std</th>\n      <td>0.00</td>\n      <td>0.001</td>\n    </tr>\n  </tbody>\n</table>\n</div>"
     },
     "execution_count": 193,
     "metadata": {},
     "output_type": "execute_result"
    }
   ],
   "source": [
    "describe(cal, title=\"cGNF\", sigfig=dict(mean=2, std=3))"
   ],
   "metadata": {
    "collapsed": false,
    "pycharm": {
     "name": "#%%\n"
    }
   }
  },
  {
   "cell_type": "code",
   "execution_count": null,
   "outputs": [],
   "source": [],
   "metadata": {
    "collapsed": false,
    "pycharm": {
     "name": "#%%\n"
    }
   }
  }
 ],
 "metadata": {
  "kernelspec": {
   "display_name": "Python 3",
   "language": "python",
   "name": "python3"
  },
  "language_info": {
   "codemirror_mode": {
    "name": "ipython",
    "version": 2
   },
   "file_extension": ".py",
   "mimetype": "text/x-python",
   "name": "python",
   "nbconvert_exporter": "python",
   "pygments_lexer": "ipython2",
   "version": "2.7.6"
  }
 },
 "nbformat": 4,
 "nbformat_minor": 0
}